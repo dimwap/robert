{
 "cells": [
  {
   "cell_type": "code",
   "execution_count": 2,
   "metadata": {},
   "outputs": [
    {
     "name": "stdout",
     "output_type": "stream",
     "text": [
      "40320 Перебор элементов\n",
      "WIN!!! ('2', '6', '4', '8', '1', '9', '7', '3')\n"
     ]
    }
   ],
   "source": [
    "import itertools\n",
    "sC='12346789'; lC=list(sC)\n",
    "lA=list(itertools.permutations(lC))\n",
    "print(len(lA),'Перебор элементов')\n",
    "#40320 - ocenka kolichestva elementov\n",
    "D='5'; T='0'\n",
    "for i in lA:\n",
    "    O=i[0]\n",
    "    N=i[1]\n",
    "    A=i[2]\n",
    "    L=i[3]\n",
    "    G=i[4]\n",
    "    E=i[5]\n",
    "    R=i[6]\n",
    "    B=i[7]\n",
    "    sc1=D+O+N+A+L+D\n",
    "    sc2=G+E+R+A+L+D\n",
    "    sc3=R+O+B+E+R+T\n",
    "    c1=int(sc1)\n",
    "    c2=int(sc2)\n",
    "    c3=int(sc3)\n",
    "    if c1+c2==c3:\n",
    "        print('WIN!!!',i)\n"
   ]
  },
  {
   "cell_type": "code",
   "execution_count": 3,
   "metadata": {},
   "outputs": [
    {
     "data": {
      "text/plain": [
       "40320"
      ]
     },
     "execution_count": 3,
     "metadata": {},
     "output_type": "execute_result"
    }
   ],
   "source": [
    "import math\n",
    "math.factorial(8)"
   ]
  },
  {
   "cell_type": "code",
   "execution_count": 4,
   "metadata": {},
   "outputs": [],
   "source": [
    "import numpy as np\n",
    "from timeit import Timer"
   ]
  },
  {
   "cell_type": "code",
   "execution_count": null,
   "metadata": {},
   "outputs": [],
   "source": []
  }
 ],
 "metadata": {
  "kernelspec": {
   "display_name": "Python 3",
   "language": "python",
   "name": "python3"
  },
  "language_info": {
   "codemirror_mode": {
    "name": "ipython",
    "version": 3
   },
   "file_extension": ".py",
   "mimetype": "text/x-python",
   "name": "python",
   "nbconvert_exporter": "python",
   "pygments_lexer": "ipython3",
   "version": "3.7.1"
  }
 },
 "nbformat": 4,
 "nbformat_minor": 2
}
